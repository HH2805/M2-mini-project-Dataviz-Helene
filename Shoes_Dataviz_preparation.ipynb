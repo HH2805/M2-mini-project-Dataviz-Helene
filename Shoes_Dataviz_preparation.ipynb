{
 "cells": [
  {
   "cell_type": "markdown",
   "metadata": {},
   "source": [
    "## Project: Visualizing Real World Data - The Price of Women's Shoes"
   ]
  },
  {
   "cell_type": "markdown",
   "metadata": {},
   "source": [
    "![img](./shoes_pic.jpg)"
   ]
  },
  {
   "cell_type": "markdown",
   "metadata": {},
   "source": [
    "## Overview"
   ]
  },
  {
   "cell_type": "markdown",
   "metadata": {},
   "source": [
    "\n",
    "The goal of this project was to practice creating and interpreting different types of visualizations using real world data.\n",
    "\n",
    "I have chosen to study a dataset of around 19,000 women's shoes and their associated product information. The dataset is the public extract of one of the databases sold by Datafiniti, a database provider for business. The public extract was downloaded from Kaggle.\n",
    "\n",
    "Each line of the dataset is a pair of shoes sold at a merchant website. It shows name, features, brand, price, merchant and more. Each shoe has an entry for each price found for it so some shoes may have multiple entries.\n",
    "\n",
    "The dataset used was uploaded at https://www.kaggle.com/datafiniti/womens-shoes-prices?select=7210_1.csv\n",
    "It is in a .csv format\n",
    "The codebook for the dataset can be found at https://developer.datafiniti.co/docs/product-data-schema"
   ]
  },
  {
   "cell_type": "markdown",
   "metadata": {},
   "source": [
    "## Libraries\n",
    "Pandas and numpy will be needed for the analysis of the data.\n",
    "Seaborn will be needed for vizualisations."
   ]
  },
  {
   "cell_type": "code",
   "execution_count": 1,
   "metadata": {},
   "outputs": [],
   "source": [
    "import pandas as pd\n",
    "import numpy as np\n",
    "import seaborn as sns"
   ]
  },
  {
   "cell_type": "markdown",
   "metadata": {},
   "source": [
    "We have uploaded the dataset from Kaggle. Let's import and assign it to a variable named `shoes_v0`."
   ]
  },
  {
   "cell_type": "code",
   "execution_count": 2,
   "metadata": {},
   "outputs": [],
   "source": [
    "#your code here\n",
    "shoes = pd.read_csv('../data/shoes_v0.csv', low_memory=False)"
   ]
  },
  {
   "cell_type": "markdown",
   "metadata": {},
   "source": [
    "# 1. Taking the first look at the data.\n",
    "Let's see how the data looks by using pandas methods like 'shape', `head()`, `info()` and `describe()`. \n",
    "\n",
    "**First, use the `shape` method.**"
   ]
  },
  {
   "cell_type": "code",
   "execution_count": 3,
   "metadata": {},
   "outputs": [
    {
     "data": {
      "text/plain": [
       "(19045, 47)"
      ]
     },
     "execution_count": 3,
     "metadata": {},
     "output_type": "execute_result"
    }
   ],
   "source": [
    "# To check the size of our data, let's use the shape method.\n",
    "shoes.shape"
   ]
  },
  {
   "cell_type": "code",
   "execution_count": 4,
   "metadata": {},
   "outputs": [
    {
     "data": {
      "text/html": [
       "<div>\n",
       "<style scoped>\n",
       "    .dataframe tbody tr th:only-of-type {\n",
       "        vertical-align: middle;\n",
       "    }\n",
       "\n",
       "    .dataframe tbody tr th {\n",
       "        vertical-align: top;\n",
       "    }\n",
       "\n",
       "    .dataframe thead th {\n",
       "        text-align: right;\n",
       "    }\n",
       "</style>\n",
       "<table border=\"1\" class=\"dataframe\">\n",
       "  <thead>\n",
       "    <tr style=\"text-align: right;\">\n",
       "      <th></th>\n",
       "      <th>id</th>\n",
       "      <th>asins</th>\n",
       "      <th>brand</th>\n",
       "      <th>categories</th>\n",
       "      <th>colors</th>\n",
       "      <th>count</th>\n",
       "      <th>dateAdded</th>\n",
       "      <th>dateUpdated</th>\n",
       "      <th>descriptions</th>\n",
       "      <th>dimension</th>\n",
       "      <th>...</th>\n",
       "      <th>prices.sourceURLs</th>\n",
       "      <th>prices.warranty</th>\n",
       "      <th>quantities</th>\n",
       "      <th>reviews</th>\n",
       "      <th>sizes</th>\n",
       "      <th>skus</th>\n",
       "      <th>sourceURLs</th>\n",
       "      <th>upc</th>\n",
       "      <th>websiteIDs</th>\n",
       "      <th>weight</th>\n",
       "    </tr>\n",
       "  </thead>\n",
       "  <tbody>\n",
       "    <tr>\n",
       "      <th>0</th>\n",
       "      <td>AVpfBXx21cnluZ0-cKxs</td>\n",
       "      <td>NaN</td>\n",
       "      <td>Zoot</td>\n",
       "      <td>Shoes,Clothing,Women's Shoes,All Women's Shoes</td>\n",
       "      <td>Blue,Multicolor</td>\n",
       "      <td>NaN</td>\n",
       "      <td>2016-11-11T09:49:00Z</td>\n",
       "      <td>2016-11-11T09:49:00Z</td>\n",
       "      <td>[{\"dateSeen\":[\"2016-11-11T09:49:00Z\"],\"sourceU...</td>\n",
       "      <td>NaN</td>\n",
       "      <td>...</td>\n",
       "      <td>https://www.walmart.com/ip/Zoot-TT-TRAINER-2.0...</td>\n",
       "      <td>NaN</td>\n",
       "      <td>NaN</td>\n",
       "      <td>NaN</td>\n",
       "      <td>10,9</td>\n",
       "      <td>NaN</td>\n",
       "      <td>https://www.walmart.com/ip/Zoot-TT-TRAINER-2.0...</td>\n",
       "      <td>NaN</td>\n",
       "      <td>NaN</td>\n",
       "      <td>NaN</td>\n",
       "    </tr>\n",
       "    <tr>\n",
       "      <th>1</th>\n",
       "      <td>AVpfBXx21cnluZ0-cKxs</td>\n",
       "      <td>NaN</td>\n",
       "      <td>Zoot</td>\n",
       "      <td>Shoes,Clothing,Women's Shoes,All Women's Shoes</td>\n",
       "      <td>Blue,Multicolor</td>\n",
       "      <td>NaN</td>\n",
       "      <td>2016-11-11T09:49:00Z</td>\n",
       "      <td>2016-11-11T09:49:00Z</td>\n",
       "      <td>[{\"dateSeen\":[\"2016-11-11T09:49:00Z\"],\"sourceU...</td>\n",
       "      <td>NaN</td>\n",
       "      <td>...</td>\n",
       "      <td>https://www.walmart.com/ip/Zoot-TT-TRAINER-2.0...</td>\n",
       "      <td>NaN</td>\n",
       "      <td>NaN</td>\n",
       "      <td>NaN</td>\n",
       "      <td>10,9</td>\n",
       "      <td>NaN</td>\n",
       "      <td>https://www.walmart.com/ip/Zoot-TT-TRAINER-2.0...</td>\n",
       "      <td>NaN</td>\n",
       "      <td>NaN</td>\n",
       "      <td>NaN</td>\n",
       "    </tr>\n",
       "    <tr>\n",
       "      <th>2</th>\n",
       "      <td>AVpfBXx21cnluZ0-cKxs</td>\n",
       "      <td>NaN</td>\n",
       "      <td>Zoot</td>\n",
       "      <td>Shoes,Clothing,Women's Shoes,All Women's Shoes</td>\n",
       "      <td>Blue,Multicolor</td>\n",
       "      <td>NaN</td>\n",
       "      <td>2016-11-11T09:49:00Z</td>\n",
       "      <td>2016-11-11T09:49:00Z</td>\n",
       "      <td>[{\"dateSeen\":[\"2016-11-11T09:49:00Z\"],\"sourceU...</td>\n",
       "      <td>NaN</td>\n",
       "      <td>...</td>\n",
       "      <td>https://www.walmart.com/ip/Zoot-TT-TRAINER-2.0...</td>\n",
       "      <td>NaN</td>\n",
       "      <td>NaN</td>\n",
       "      <td>NaN</td>\n",
       "      <td>10,9</td>\n",
       "      <td>NaN</td>\n",
       "      <td>https://www.walmart.com/ip/Zoot-TT-TRAINER-2.0...</td>\n",
       "      <td>NaN</td>\n",
       "      <td>NaN</td>\n",
       "      <td>NaN</td>\n",
       "    </tr>\n",
       "    <tr>\n",
       "      <th>3</th>\n",
       "      <td>AVpfBXx21cnluZ0-cKxs</td>\n",
       "      <td>NaN</td>\n",
       "      <td>Zoot</td>\n",
       "      <td>Shoes,Clothing,Women's Shoes,All Women's Shoes</td>\n",
       "      <td>Blue,Multicolor</td>\n",
       "      <td>NaN</td>\n",
       "      <td>2016-11-11T09:49:00Z</td>\n",
       "      <td>2016-11-11T09:49:00Z</td>\n",
       "      <td>[{\"dateSeen\":[\"2016-11-11T09:49:00Z\"],\"sourceU...</td>\n",
       "      <td>NaN</td>\n",
       "      <td>...</td>\n",
       "      <td>https://www.walmart.com/ip/Zoot-TT-TRAINER-2.0...</td>\n",
       "      <td>NaN</td>\n",
       "      <td>NaN</td>\n",
       "      <td>NaN</td>\n",
       "      <td>10,9</td>\n",
       "      <td>NaN</td>\n",
       "      <td>https://www.walmart.com/ip/Zoot-TT-TRAINER-2.0...</td>\n",
       "      <td>NaN</td>\n",
       "      <td>NaN</td>\n",
       "      <td>NaN</td>\n",
       "    </tr>\n",
       "    <tr>\n",
       "      <th>4</th>\n",
       "      <td>AVpfEqFRLJeJML431x7w</td>\n",
       "      <td>NaN</td>\n",
       "      <td>Wild Pair</td>\n",
       "      <td>Shoes,Women's Shoes,Clothing,All Women's Shoes</td>\n",
       "      <td>Brown</td>\n",
       "      <td>NaN</td>\n",
       "      <td>2016-11-16T12:56:36Z</td>\n",
       "      <td>2016-11-16T12:56:36Z</td>\n",
       "      <td>[{\"dateSeen\":[\"2016-11-16T12:56:36Z\"],\"sourceU...</td>\n",
       "      <td>NaN</td>\n",
       "      <td>...</td>\n",
       "      <td>https://www.walmart.com/ip/Wild-Pair-Colfax-Wo...</td>\n",
       "      <td>NaN</td>\n",
       "      <td>NaN</td>\n",
       "      <td>NaN</td>\n",
       "      <td>8.5,7,7.5,8</td>\n",
       "      <td>NaN</td>\n",
       "      <td>https://www.walmart.com/ip/Wild-Pair-Colfax-Wo...</td>\n",
       "      <td>7.63181E+11</td>\n",
       "      <td>NaN</td>\n",
       "      <td>NaN</td>\n",
       "    </tr>\n",
       "  </tbody>\n",
       "</table>\n",
       "<p>5 rows × 47 columns</p>\n",
       "</div>"
      ],
      "text/plain": [
       "                     id asins      brand  \\\n",
       "0  AVpfBXx21cnluZ0-cKxs   NaN       Zoot   \n",
       "1  AVpfBXx21cnluZ0-cKxs   NaN       Zoot   \n",
       "2  AVpfBXx21cnluZ0-cKxs   NaN       Zoot   \n",
       "3  AVpfBXx21cnluZ0-cKxs   NaN       Zoot   \n",
       "4  AVpfEqFRLJeJML431x7w   NaN  Wild Pair   \n",
       "\n",
       "                                       categories           colors  count  \\\n",
       "0  Shoes,Clothing,Women's Shoes,All Women's Shoes  Blue,Multicolor    NaN   \n",
       "1  Shoes,Clothing,Women's Shoes,All Women's Shoes  Blue,Multicolor    NaN   \n",
       "2  Shoes,Clothing,Women's Shoes,All Women's Shoes  Blue,Multicolor    NaN   \n",
       "3  Shoes,Clothing,Women's Shoes,All Women's Shoes  Blue,Multicolor    NaN   \n",
       "4  Shoes,Women's Shoes,Clothing,All Women's Shoes            Brown    NaN   \n",
       "\n",
       "              dateAdded           dateUpdated  \\\n",
       "0  2016-11-11T09:49:00Z  2016-11-11T09:49:00Z   \n",
       "1  2016-11-11T09:49:00Z  2016-11-11T09:49:00Z   \n",
       "2  2016-11-11T09:49:00Z  2016-11-11T09:49:00Z   \n",
       "3  2016-11-11T09:49:00Z  2016-11-11T09:49:00Z   \n",
       "4  2016-11-16T12:56:36Z  2016-11-16T12:56:36Z   \n",
       "\n",
       "                                        descriptions dimension  ...  \\\n",
       "0  [{\"dateSeen\":[\"2016-11-11T09:49:00Z\"],\"sourceU...       NaN  ...   \n",
       "1  [{\"dateSeen\":[\"2016-11-11T09:49:00Z\"],\"sourceU...       NaN  ...   \n",
       "2  [{\"dateSeen\":[\"2016-11-11T09:49:00Z\"],\"sourceU...       NaN  ...   \n",
       "3  [{\"dateSeen\":[\"2016-11-11T09:49:00Z\"],\"sourceU...       NaN  ...   \n",
       "4  [{\"dateSeen\":[\"2016-11-16T12:56:36Z\"],\"sourceU...       NaN  ...   \n",
       "\n",
       "                                   prices.sourceURLs prices.warranty  \\\n",
       "0  https://www.walmart.com/ip/Zoot-TT-TRAINER-2.0...             NaN   \n",
       "1  https://www.walmart.com/ip/Zoot-TT-TRAINER-2.0...             NaN   \n",
       "2  https://www.walmart.com/ip/Zoot-TT-TRAINER-2.0...             NaN   \n",
       "3  https://www.walmart.com/ip/Zoot-TT-TRAINER-2.0...             NaN   \n",
       "4  https://www.walmart.com/ip/Wild-Pair-Colfax-Wo...             NaN   \n",
       "\n",
       "   quantities reviews        sizes skus  \\\n",
       "0         NaN     NaN         10,9  NaN   \n",
       "1         NaN     NaN         10,9  NaN   \n",
       "2         NaN     NaN         10,9  NaN   \n",
       "3         NaN     NaN         10,9  NaN   \n",
       "4         NaN     NaN  8.5,7,7.5,8  NaN   \n",
       "\n",
       "                                          sourceURLs          upc websiteIDs  \\\n",
       "0  https://www.walmart.com/ip/Zoot-TT-TRAINER-2.0...          NaN        NaN   \n",
       "1  https://www.walmart.com/ip/Zoot-TT-TRAINER-2.0...          NaN        NaN   \n",
       "2  https://www.walmart.com/ip/Zoot-TT-TRAINER-2.0...          NaN        NaN   \n",
       "3  https://www.walmart.com/ip/Zoot-TT-TRAINER-2.0...          NaN        NaN   \n",
       "4  https://www.walmart.com/ip/Wild-Pair-Colfax-Wo...  7.63181E+11        NaN   \n",
       "\n",
       "  weight  \n",
       "0    NaN  \n",
       "1    NaN  \n",
       "2    NaN  \n",
       "3    NaN  \n",
       "4    NaN  \n",
       "\n",
       "[5 rows x 47 columns]"
      ]
     },
     "execution_count": 4,
     "metadata": {},
     "output_type": "execute_result"
    }
   ],
   "source": [
    "# Let's then print the first 5 rows of our dataset for a first look at the features (columns) and at some of the values.\n",
    "shoes.head(5) "
   ]
  },
  {
   "cell_type": "markdown",
   "metadata": {},
   "source": [
    "Comments:\n",
    "\n",
    "We can see from the first 5 rows that there seems to be a significant number of missing data in some of the columns.\n",
    "\n",
    "We can also note that some columns seem to be duplicates, at least on the 1st 5 rows. \n",
    "- prices.amountMin looks the same as prices.amountMax\n",
    "- dateAdded looks the same as dateUpdated.\n",
    "\n",
    "The data in some columns ('descriptions', 'features') column is nested. We'll need to \n",
    "\n",
    "Let's start by having a look into this issue to decide if we should drop some columns.\n",
    "\n",
    "We'll use the info method and the isna() method."
   ]
  },
  {
   "cell_type": "code",
   "execution_count": 5,
   "metadata": {},
   "outputs": [
    {
     "name": "stdout",
     "output_type": "stream",
     "text": [
      "<class 'pandas.core.frame.DataFrame'>\n",
      "RangeIndex: 19045 entries, 0 to 19044\n",
      "Data columns (total 47 columns):\n",
      " #   Column               Non-Null Count  Dtype  \n",
      "---  ------               --------------  -----  \n",
      " 0   id                   19045 non-null  object \n",
      " 1   asins                2208 non-null   object \n",
      " 2   brand                18412 non-null  object \n",
      " 3   categories           19045 non-null  object \n",
      " 4   colors               11889 non-null  object \n",
      " 5   count                0 non-null      float64\n",
      " 6   dateAdded            19045 non-null  object \n",
      " 7   dateUpdated          19045 non-null  object \n",
      " 8   descriptions         10780 non-null  object \n",
      " 9   dimension            2418 non-null   object \n",
      " 10  ean                  9816 non-null   float64\n",
      " 11  features             14108 non-null  object \n",
      " 12  flavors              0 non-null      float64\n",
      " 13  imageURLs            17840 non-null  object \n",
      " 14  isbn                 0 non-null      float64\n",
      " 15  keys                 19045 non-null  object \n",
      " 16  manufacturer         8656 non-null   object \n",
      " 17  manufacturerNumber   15903 non-null  object \n",
      " 18  merchants            13688 non-null  object \n",
      " 19  name                 19045 non-null  object \n",
      " 20  prices.amountMin     19044 non-null  object \n",
      " 21  prices.amountMax     19045 non-null  object \n",
      " 22  prices.availability  135 non-null    object \n",
      " 23  prices.color         547 non-null    object \n",
      " 24  prices.condition     12228 non-null  object \n",
      " 25  prices.count         7 non-null      object \n",
      " 26  prices.currency      19036 non-null  object \n",
      " 27  prices.dateAdded     19041 non-null  object \n",
      " 28  prices.dateSeen      19041 non-null  object \n",
      " 29  prices.flavor        6 non-null      object \n",
      " 30  prices.isSale        19039 non-null  object \n",
      " 31  prices.merchant      14294 non-null  object \n",
      " 32  prices.offer         6853 non-null   object \n",
      " 33  prices.returnPolicy  752 non-null    object \n",
      " 34  prices.shipping      4563 non-null   object \n",
      " 35  prices.size          508 non-null    object \n",
      " 36  prices.source        4 non-null      object \n",
      " 37  prices.sourceURLs    19034 non-null  object \n",
      " 38  prices.warranty      20 non-null     object \n",
      " 39  quantities           2 non-null      object \n",
      " 40  reviews              1014 non-null   object \n",
      " 41  sizes                8269 non-null   object \n",
      " 42  skus                 7084 non-null   object \n",
      " 43  sourceURLs           19034 non-null  object \n",
      " 44  upc                  10671 non-null  object \n",
      " 45  websiteIDs           1 non-null      float64\n",
      " 46  weight               830 non-null    object \n",
      "dtypes: float64(5), object(42)\n",
      "memory usage: 6.8+ MB\n"
     ]
    }
   ],
   "source": [
    "shoes.info()"
   ]
  },
  {
   "cell_type": "markdown",
   "metadata": {},
   "source": [
    "**Missing Data**"
   ]
  },
  {
   "cell_type": "markdown",
   "metadata": {},
   "source": [
    "Comments:\n",
    "As suspected many columns have null cells. Let's look at the percentage of the empty cells in each columns."
   ]
  },
  {
   "cell_type": "code",
   "execution_count": 6,
   "metadata": {},
   "outputs": [
    {
     "data": {
      "text/plain": [
       "id                       0.000000\n",
       "asins                   88.406406\n",
       "brand                    3.323707\n",
       "categories               0.000000\n",
       "colors                  37.574166\n",
       "count                  100.000000\n",
       "dateAdded                0.000000\n",
       "dateUpdated              0.000000\n",
       "descriptions            43.397217\n",
       "dimension               87.303754\n",
       "ean                     48.458913\n",
       "features                25.922814\n",
       "flavors                100.000000\n",
       "imageURLs                6.327120\n",
       "isbn                   100.000000\n",
       "keys                     0.000000\n",
       "manufacturer            54.549751\n",
       "manufacturerNumber      16.497768\n",
       "merchants               28.128118\n",
       "name                     0.000000\n",
       "prices.amountMin         0.005251\n",
       "prices.amountMax         0.000000\n",
       "prices.availability     99.291153\n",
       "prices.color            97.127855\n",
       "prices.condition        35.794172\n",
       "prices.count            99.963245\n",
       "prices.currency          0.047256\n",
       "prices.dateAdded         0.021003\n",
       "prices.dateSeen          0.021003\n",
       "prices.flavor           99.968496\n",
       "prices.isSale            0.031504\n",
       "prices.merchant         24.946180\n",
       "prices.offer            64.016802\n",
       "prices.returnPolicy     96.051457\n",
       "prices.shipping         76.040956\n",
       "prices.size             97.332633\n",
       "prices.source           99.978997\n",
       "prices.sourceURLs        0.057758\n",
       "prices.warranty         99.894986\n",
       "quantities              99.989499\n",
       "reviews                 94.675768\n",
       "sizes                   56.581780\n",
       "skus                    62.803886\n",
       "sourceURLs               0.057758\n",
       "upc                     43.969546\n",
       "websiteIDs              99.994749\n",
       "weight                  95.641901\n",
       "dtype: float64"
      ]
     },
     "execution_count": 6,
     "metadata": {},
     "output_type": "execute_result"
    }
   ],
   "source": [
    "shoes.isna().sum()*100/len(shoes)"
   ]
  },
  {
   "cell_type": "markdown",
   "metadata": {},
   "source": [
    "**Comments:**\n",
    "\n",
    "Some of the columns are 100% empty or mostly empty. They are the following:\n",
    "- asins (88% empty) : The Amazon identifier for this product.\n",
    "- count (100% empty): The number of units included in the product packaging.\n",
    "- dimension (87% empty): The length, width, and height of the item.\n",
    "- flavors (100% empty): A list of flavors available for this product.\n",
    "- isbn (100% empty): The ISBN code for this product.\n",
    "- prices.availability (close to 100% empty): A true or false if this product is available at this price\n",
    "- prices.color (97%): The color associated with this price.\n",
    "- prices.count (close to 100% empty): The number of units being sold at this price.\n",
    "- prices.flavor (close to 100% empty): The flavor associated with this price.\n",
    "- prices.ReturnPolicy (96%): The return policy associated with this price.\n",
    "- prices.shipping (76%): The shipping terms associated with this price.\n",
    "- prices.size (97%): The size associated with this price.\n",
    "- prices.source (close to 100% empty): A list of URLs where this price was seen.\n",
    "- prices.warranty (close to 100% emty): The warranty associated with this price.\n",
    "- quantities (close to 100% empty): How many units of the product are available from a specific buying source at a given time.\n",
    "- reviews (95%): A list of reviews for this product.\n",
    "- websiteIDs (close to 100% empty): A list of identifiers used by the merchant website.\n",
    "- weight (95%): The weight of this product.\n",
    "\n",
    "Obviously some of thse columns are just non relevant. It would appear that all Datafiniti databases follow the same exact schema; so all their datasets have empty columns corresponding to those where it made no sense to collect any info. Here are the columns that should not even be in our shoe dataset because they are irrelevant to the shoe business: \"flavors\", \"isbn\",  \"prices.availability\", \"prices.flavor\", \"prices.size\".  \n",
    "Let's drop them. "
   ]
  },
  {
   "cell_type": "markdown",
   "metadata": {},
   "source": [
    "Other columns have data that is relevant but not interesting or non-important, such as \"asins\", \"count\", \"dimension\", \"weight\", \"id\", \"prices.returnPolicy\", \"prices.shipping\", \"prices.source\", \"prices.warranty\", \"quantities\", \"reviews\", \"websiteIDs\"... \n",
    "Let's drop them as well.\n",
    "\n",
    "It would have been interesting to study the number of units sold at each price (\"prices.count\"), but there is just not enough of info about it, so let's drop the column. \n",
    "\n",
    "Finally let's drop all the rows that still contain missing data."
   ]
  },
  {
   "cell_type": "code",
   "execution_count": 7,
   "metadata": {},
   "outputs": [
    {
     "data": {
      "text/plain": [
       "(19045, 47)"
      ]
     },
     "execution_count": 7,
     "metadata": {},
     "output_type": "execute_result"
    }
   ],
   "source": [
    "shoes.shape"
   ]
  },
  {
   "cell_type": "code",
   "execution_count": 8,
   "metadata": {},
   "outputs": [],
   "source": [
    "shoes.drop(['flavors', 'isbn', 'prices.availability', 'prices.flavor', \"prices.size\", \"asins\", \"count\", \"dimension\", \"prices.color\", \"prices.returnPolicy\", \"prices.shipping\", \"prices.source\", \"prices.warranty\", \"quantities\", \"reviews\", \"websiteIDs\", \"weight\",\"prices.count\", \"categories\", \"dateAdded\", \"dateUpdated\", \"descriptions\", \"ean\", \"features\", \"id\", \"imageURLs\", \"keys\", \"manufacturer\", \"manufacturerNumber\", 'merchants', 'prices.condition', 'prices.dateAdded', 'prices.dateSeen', 'prices.merchant', 'prices.offer', 'prices.sourceURLs', 'sizes', 'skus', 'sourceURLs', 'upc'], axis=1, inplace=True)"
   ]
  },
  {
   "cell_type": "code",
   "execution_count": 9,
   "metadata": {},
   "outputs": [
    {
     "data": {
      "text/plain": [
       "brand                3.323707\n",
       "colors              37.574166\n",
       "name                 0.000000\n",
       "prices.amountMin     0.005251\n",
       "prices.amountMax     0.000000\n",
       "prices.currency      0.047256\n",
       "prices.isSale        0.031504\n",
       "dtype: float64"
      ]
     },
     "execution_count": 9,
     "metadata": {},
     "output_type": "execute_result"
    }
   ],
   "source": [
    "# check\n",
    "shoes.isna().sum()*100/len(shoes)"
   ]
  },
  {
   "cell_type": "code",
   "execution_count": 10,
   "metadata": {},
   "outputs": [
    {
     "data": {
      "text/plain": [
       "(19045, 7)"
      ]
     },
     "execution_count": 10,
     "metadata": {},
     "output_type": "execute_result"
    }
   ],
   "source": [
    "shoes.shape"
   ]
  },
  {
   "cell_type": "code",
   "execution_count": 11,
   "metadata": {},
   "outputs": [],
   "source": [
    "shoes.dropna(inplace = True)"
   ]
  },
  {
   "cell_type": "code",
   "execution_count": 12,
   "metadata": {},
   "outputs": [
    {
     "data": {
      "text/plain": [
       "(11499, 7)"
      ]
     },
     "execution_count": 12,
     "metadata": {},
     "output_type": "execute_result"
    }
   ],
   "source": [
    "shoes.shape"
   ]
  },
  {
   "cell_type": "markdown",
   "metadata": {},
   "source": [
    "**Redundant Data**"
   ]
  },
  {
   "cell_type": "markdown",
   "metadata": {},
   "source": [
    "Now let's see if some of the rows are duplicated."
   ]
  },
  {
   "cell_type": "code",
   "execution_count": 13,
   "metadata": {},
   "outputs": [
    {
     "data": {
      "text/plain": [
       "628"
      ]
     },
     "execution_count": 13,
     "metadata": {},
     "output_type": "execute_result"
    }
   ],
   "source": [
    "shoes.duplicated().sum()"
   ]
  },
  {
   "cell_type": "code",
   "execution_count": 14,
   "metadata": {},
   "outputs": [
    {
     "data": {
      "text/plain": [
       "0"
      ]
     },
     "execution_count": 14,
     "metadata": {},
     "output_type": "execute_result"
    }
   ],
   "source": [
    "# We have duplicated rows. This is probably a database error, and is less than 3.3% of our data, so let's drop those duplicated rows.\n",
    "shoes.drop_duplicates(inplace=True)\n",
    "\n",
    "# check\n",
    "shoes.duplicated().sum()"
   ]
  },
  {
   "cell_type": "code",
   "execution_count": 15,
   "metadata": {},
   "outputs": [
    {
     "data": {
      "text/plain": [
       "(10871, 7)"
      ]
     },
     "execution_count": 15,
     "metadata": {},
     "output_type": "execute_result"
    }
   ],
   "source": [
    "shoes.shape"
   ]
  },
  {
   "cell_type": "markdown",
   "metadata": {},
   "source": [
    "**Comments:**\n",
    "Now let's check if the types of each column is what we expect. If all columns have the right type, we will be able to do all the operations that we want to do. "
   ]
  },
  {
   "cell_type": "markdown",
   "metadata": {},
   "source": [
    "**Data Types**"
   ]
  },
  {
   "cell_type": "code",
   "execution_count": 16,
   "metadata": {},
   "outputs": [
    {
     "data": {
      "text/plain": [
       "brand               object\n",
       "colors              object\n",
       "name                object\n",
       "prices.amountMin    object\n",
       "prices.amountMax    object\n",
       "prices.currency     object\n",
       "prices.isSale       object\n",
       "dtype: object"
      ]
     },
     "execution_count": 16,
     "metadata": {},
     "output_type": "execute_result"
    }
   ],
   "source": [
    "shoes.dtypes"
   ]
  },
  {
   "cell_type": "markdown",
   "metadata": {},
   "source": [
    "**Comments:**\n",
    "All the columns have a text format. Price columns (\"prices.amountMin\" and \"prices.amountMax\") should be numeric. Let's change them."
   ]
  },
  {
   "cell_type": "code",
   "execution_count": 17,
   "metadata": {},
   "outputs": [
    {
     "name": "stdout",
     "output_type": "stream",
     "text": [
      "The above code errored out.\n"
     ]
    }
   ],
   "source": [
    "try:\n",
    "    shoes['prices.amountMin'].astype('float')\n",
    "except:\n",
    "    print(\"The above code errored out.\")"
   ]
  },
  {
   "cell_type": "markdown",
   "metadata": {},
   "source": [
    "**Comments:**\n",
    "It looks as if there is some text-format data in our price columns. By looking at sample rows we cannot see any text, so there probably isn't a lot of it and in any case it is a dabase error. Let's force our columns to convert to numeric type."
   ]
  },
  {
   "cell_type": "code",
   "execution_count": 18,
   "metadata": {},
   "outputs": [
    {
     "data": {
      "text/plain": [
       "brand                object\n",
       "colors               object\n",
       "name                 object\n",
       "prices.amountMin    float64\n",
       "prices.amountMax    float64\n",
       "prices.currency      object\n",
       "prices.isSale        object\n",
       "dtype: object"
      ]
     },
     "execution_count": 18,
     "metadata": {},
     "output_type": "execute_result"
    }
   ],
   "source": [
    "#your code here\n",
    "shoes['prices.amountMin'] = pd.to_numeric(shoes['prices.amountMin'], errors='coerce')\n",
    "shoes['prices.amountMax'] = pd.to_numeric(shoes['prices.amountMax'], errors='coerce')\n",
    "\n",
    "#check\n",
    "shoes.dtypes"
   ]
  },
  {
   "cell_type": "code",
   "execution_count": 19,
   "metadata": {},
   "outputs": [
    {
     "data": {
      "text/html": [
       "<div>\n",
       "<style scoped>\n",
       "    .dataframe tbody tr th:only-of-type {\n",
       "        vertical-align: middle;\n",
       "    }\n",
       "\n",
       "    .dataframe tbody tr th {\n",
       "        vertical-align: top;\n",
       "    }\n",
       "\n",
       "    .dataframe thead th {\n",
       "        text-align: right;\n",
       "    }\n",
       "</style>\n",
       "<table border=\"1\" class=\"dataframe\">\n",
       "  <thead>\n",
       "    <tr style=\"text-align: right;\">\n",
       "      <th></th>\n",
       "      <th>brand</th>\n",
       "      <th>colors</th>\n",
       "      <th>name</th>\n",
       "      <th>prices.amountMin</th>\n",
       "      <th>prices.amountMax</th>\n",
       "      <th>prices.currency</th>\n",
       "      <th>prices.isSale</th>\n",
       "    </tr>\n",
       "  </thead>\n",
       "  <tbody>\n",
       "    <tr>\n",
       "      <th>0</th>\n",
       "      <td>Zoot</td>\n",
       "      <td>Blue,Multicolor</td>\n",
       "      <td>Zoot Tt Trainer 2.0   Round Toe Synthetic  Sne...</td>\n",
       "      <td>71.99</td>\n",
       "      <td>71.99</td>\n",
       "      <td>USD</td>\n",
       "      <td>TRUE</td>\n",
       "    </tr>\n",
       "    <tr>\n",
       "      <th>1</th>\n",
       "      <td>Zoot</td>\n",
       "      <td>Blue,Multicolor</td>\n",
       "      <td>Zoot Tt Trainer 2.0   Round Toe Synthetic  Sne...</td>\n",
       "      <td>250.00</td>\n",
       "      <td>250.00</td>\n",
       "      <td>USD</td>\n",
       "      <td>FALSE</td>\n",
       "    </tr>\n",
       "    <tr>\n",
       "      <th>2</th>\n",
       "      <td>Zoot</td>\n",
       "      <td>Blue,Multicolor</td>\n",
       "      <td>Zoot Tt Trainer 2.0   Round Toe Synthetic  Sne...</td>\n",
       "      <td>75.99</td>\n",
       "      <td>75.99</td>\n",
       "      <td>USD</td>\n",
       "      <td>TRUE</td>\n",
       "    </tr>\n",
       "    <tr>\n",
       "      <th>3</th>\n",
       "      <td>Zoot</td>\n",
       "      <td>Blue,Multicolor</td>\n",
       "      <td>Zoot Tt Trainer 2.0   Round Toe Synthetic  Sne...</td>\n",
       "      <td>79.98</td>\n",
       "      <td>79.98</td>\n",
       "      <td>USD</td>\n",
       "      <td>TRUE</td>\n",
       "    </tr>\n",
       "    <tr>\n",
       "      <th>4</th>\n",
       "      <td>Wild Pair</td>\n",
       "      <td>Brown</td>\n",
       "      <td>Wild Pair Colfax Women  Peep-toe Synthetic Bro...</td>\n",
       "      <td>26.98</td>\n",
       "      <td>26.98</td>\n",
       "      <td>USD</td>\n",
       "      <td>TRUE</td>\n",
       "    </tr>\n",
       "  </tbody>\n",
       "</table>\n",
       "</div>"
      ],
      "text/plain": [
       "       brand           colors  \\\n",
       "0       Zoot  Blue,Multicolor   \n",
       "1       Zoot  Blue,Multicolor   \n",
       "2       Zoot  Blue,Multicolor   \n",
       "3       Zoot  Blue,Multicolor   \n",
       "4  Wild Pair            Brown   \n",
       "\n",
       "                                                name  prices.amountMin  \\\n",
       "0  Zoot Tt Trainer 2.0   Round Toe Synthetic  Sne...             71.99   \n",
       "1  Zoot Tt Trainer 2.0   Round Toe Synthetic  Sne...            250.00   \n",
       "2  Zoot Tt Trainer 2.0   Round Toe Synthetic  Sne...             75.99   \n",
       "3  Zoot Tt Trainer 2.0   Round Toe Synthetic  Sne...             79.98   \n",
       "4  Wild Pair Colfax Women  Peep-toe Synthetic Bro...             26.98   \n",
       "\n",
       "   prices.amountMax prices.currency prices.isSale  \n",
       "0             71.99             USD          TRUE  \n",
       "1            250.00             USD         FALSE  \n",
       "2             75.99             USD          TRUE  \n",
       "3             79.98             USD          TRUE  \n",
       "4             26.98             USD          TRUE  "
      ]
     },
     "execution_count": 19,
     "metadata": {},
     "output_type": "execute_result"
    }
   ],
   "source": [
    "shoes.head()"
   ]
  },
  {
   "cell_type": "markdown",
   "metadata": {},
   "source": [
    "**Getting rid of non-representative rows**"
   ]
  },
  {
   "cell_type": "code",
   "execution_count": 20,
   "metadata": {},
   "outputs": [
    {
     "data": {
      "text/plain": [
       "MUK LUKS       213\n",
       "Nine West      194\n",
       "TOMS           191\n",
       "Nike           188\n",
       "Easy Spirit    150\n",
       "              ... \n",
       "Remonte          1\n",
       "Ashworth         1\n",
       "AvaCostume       1\n",
       "Tamarac          1\n",
       "Manitobah        1\n",
       "Name: brand, Length: 1442, dtype: int64"
      ]
     },
     "execution_count": 20,
     "metadata": {},
     "output_type": "execute_result"
    }
   ],
   "source": [
    "shoes.brand.value_counts()"
   ]
  },
  {
   "cell_type": "markdown",
   "metadata": {},
   "source": [
    "**Comments:**\n",
    "We can see that brands are not represented equally in the database. Some have lots of shoes, some very few.\n",
    "Let's decide to drop the brandnames that have less than 70 shoes in the database."
   ]
  },
  {
   "cell_type": "code",
   "execution_count": 21,
   "metadata": {},
   "outputs": [
    {
     "data": {
      "text/plain": [
       "20"
      ]
     },
     "execution_count": 21,
     "metadata": {},
     "output_type": "execute_result"
    }
   ],
   "source": [
    "brands_to_keep = shoes.brand.value_counts()[shoes.brand.value_counts()>70].index\n",
    "keep = shoes[shoes.brand.isin(brands_to_keep)]\n",
    "#check\n",
    "keep.brand.value_counts().nunique()\n",
    "# Note: We still have the main 20 brands in the dataset, so that's a reasonable number to consider."
   ]
  },
  {
   "cell_type": "code",
   "execution_count": 22,
   "metadata": {},
   "outputs": [
    {
     "data": {
      "text/plain": [
       "(2480, 7)"
      ]
     },
     "execution_count": 22,
     "metadata": {},
     "output_type": "execute_result"
    }
   ],
   "source": [
    "keep.shape"
   ]
  },
  {
   "cell_type": "code",
   "execution_count": 23,
   "metadata": {},
   "outputs": [
    {
     "data": {
      "text/plain": [
       "6"
      ]
     },
     "execution_count": 23,
     "metadata": {},
     "output_type": "execute_result"
    }
   ],
   "source": [
    "colors_to_keep = keep.colors.value_counts()[keep.colors.value_counts()>50].index\n",
    "keep = keep[keep.colors.isin(colors_to_keep)]\n",
    "keep.colors.value_counts().nunique()\n",
    "# Note: We'll focus on the main 6 colors, which seems interesting enough."
   ]
  },
  {
   "cell_type": "code",
   "execution_count": 24,
   "metadata": {},
   "outputs": [
    {
     "data": {
      "text/plain": [
       "(912, 7)"
      ]
     },
     "execution_count": 24,
     "metadata": {},
     "output_type": "execute_result"
    }
   ],
   "source": [
    "keep.shape"
   ]
  },
  {
   "cell_type": "code",
   "execution_count": 25,
   "metadata": {},
   "outputs": [
    {
     "data": {
      "text/plain": [
       "1"
      ]
     },
     "execution_count": 25,
     "metadata": {},
     "output_type": "execute_result"
    }
   ],
   "source": [
    "currency_to_keep = keep['prices.currency'].value_counts()[keep['prices.currency'].value_counts()>5].index\n",
    "keep = keep[keep['prices.currency'].isin(currency_to_keep)]\n",
    "keep['prices.currency'].value_counts().nunique()"
   ]
  },
  {
   "cell_type": "markdown",
   "metadata": {},
   "source": [
    "**Comments:**\n",
    "Now that we only have one currency (USD), we can drop the currency column."
   ]
  },
  {
   "cell_type": "code",
   "execution_count": 26,
   "metadata": {},
   "outputs": [],
   "source": [
    "keep.drop('prices.currency', axis=1, inplace=True)"
   ]
  },
  {
   "cell_type": "code",
   "execution_count": 27,
   "metadata": {},
   "outputs": [
    {
     "data": {
      "text/plain": [
       "TRUE     453\n",
       "FALSE    453\n",
       "Name: prices.isSale, dtype: int64"
      ]
     },
     "execution_count": 27,
     "metadata": {},
     "output_type": "execute_result"
    }
   ],
   "source": [
    "keep['prices.isSale'].value_counts()"
   ]
  },
  {
   "cell_type": "markdown",
   "metadata": {},
   "source": [
    "Comments: The above column is clean. Either the items are on sale, or they are not."
   ]
  },
  {
   "cell_type": "code",
   "execution_count": 28,
   "metadata": {},
   "outputs": [
    {
     "data": {
      "text/plain": [
       "(906, 6)"
      ]
     },
     "execution_count": 28,
     "metadata": {},
     "output_type": "execute_result"
    }
   ],
   "source": [
    "keep.shape"
   ]
  },
  {
   "cell_type": "code",
   "execution_count": 29,
   "metadata": {},
   "outputs": [
    {
     "data": {
      "text/html": [
       "<div>\n",
       "<style scoped>\n",
       "    .dataframe tbody tr th:only-of-type {\n",
       "        vertical-align: middle;\n",
       "    }\n",
       "\n",
       "    .dataframe tbody tr th {\n",
       "        vertical-align: top;\n",
       "    }\n",
       "\n",
       "    .dataframe thead th {\n",
       "        text-align: right;\n",
       "    }\n",
       "</style>\n",
       "<table border=\"1\" class=\"dataframe\">\n",
       "  <thead>\n",
       "    <tr style=\"text-align: right;\">\n",
       "      <th></th>\n",
       "      <th>index</th>\n",
       "      <th>brand</th>\n",
       "      <th>colors</th>\n",
       "      <th>name</th>\n",
       "      <th>prices.amountMin</th>\n",
       "      <th>prices.amountMax</th>\n",
       "      <th>prices.isSale</th>\n",
       "    </tr>\n",
       "  </thead>\n",
       "  <tbody>\n",
       "    <tr>\n",
       "      <th>0</th>\n",
       "      <td>30</td>\n",
       "      <td>New Balance</td>\n",
       "      <td>Blue</td>\n",
       "      <td>New Balance Pace Women D Round Toe Synthetic B...</td>\n",
       "      <td>42.99</td>\n",
       "      <td>42.99</td>\n",
       "      <td>TRUE</td>\n",
       "    </tr>\n",
       "    <tr>\n",
       "      <th>1</th>\n",
       "      <td>31</td>\n",
       "      <td>New Balance</td>\n",
       "      <td>Blue</td>\n",
       "      <td>New Balance Pace Women D Round Toe Synthetic B...</td>\n",
       "      <td>110.00</td>\n",
       "      <td>110.00</td>\n",
       "      <td>FALSE</td>\n",
       "    </tr>\n",
       "    <tr>\n",
       "      <th>2</th>\n",
       "      <td>34</td>\n",
       "      <td>Nine West</td>\n",
       "      <td>Red</td>\n",
       "      <td>Nine West Breeze Women  Open Toe Canvas  Wedge...</td>\n",
       "      <td>13.99</td>\n",
       "      <td>13.99</td>\n",
       "      <td>TRUE</td>\n",
       "    </tr>\n",
       "  </tbody>\n",
       "</table>\n",
       "</div>"
      ],
      "text/plain": [
       "   index        brand colors  \\\n",
       "0     30  New Balance   Blue   \n",
       "1     31  New Balance   Blue   \n",
       "2     34    Nine West    Red   \n",
       "\n",
       "                                                name  prices.amountMin  \\\n",
       "0  New Balance Pace Women D Round Toe Synthetic B...             42.99   \n",
       "1  New Balance Pace Women D Round Toe Synthetic B...            110.00   \n",
       "2  Nine West Breeze Women  Open Toe Canvas  Wedge...             13.99   \n",
       "\n",
       "   prices.amountMax prices.isSale  \n",
       "0             42.99          TRUE  \n",
       "1            110.00         FALSE  \n",
       "2             13.99          TRUE  "
      ]
     },
     "execution_count": 29,
     "metadata": {},
     "output_type": "execute_result"
    }
   ],
   "source": [
    "#Finally, let's reset the index of our dataset.\n",
    "keep = keep.reset_index()\n",
    "keep.head(3)"
   ]
  },
  {
   "cell_type": "markdown",
   "metadata": {},
   "source": [
    "Comments:\n",
    "    By deleting the rows where we have less than a certain count of data, we have drastically reduced the size of our dataset, making easier to study."
   ]
  },
  {
   "cell_type": "markdown",
   "metadata": {},
   "source": [
    "# 2. A deeper look: checking the basic statistics.\n"
   ]
  },
  {
   "cell_type": "code",
   "execution_count": 30,
   "metadata": {},
   "outputs": [
    {
     "data": {
      "text/html": [
       "<div>\n",
       "<style scoped>\n",
       "    .dataframe tbody tr th:only-of-type {\n",
       "        vertical-align: middle;\n",
       "    }\n",
       "\n",
       "    .dataframe tbody tr th {\n",
       "        vertical-align: top;\n",
       "    }\n",
       "\n",
       "    .dataframe thead th {\n",
       "        text-align: right;\n",
       "    }\n",
       "</style>\n",
       "<table border=\"1\" class=\"dataframe\">\n",
       "  <thead>\n",
       "    <tr style=\"text-align: right;\">\n",
       "      <th></th>\n",
       "      <th>index</th>\n",
       "      <th>prices.amountMin</th>\n",
       "      <th>prices.amountMax</th>\n",
       "    </tr>\n",
       "  </thead>\n",
       "  <tbody>\n",
       "    <tr>\n",
       "      <th>count</th>\n",
       "      <td>906.000000</td>\n",
       "      <td>906.000000</td>\n",
       "      <td>906.000000</td>\n",
       "    </tr>\n",
       "    <tr>\n",
       "      <th>mean</th>\n",
       "      <td>9079.651214</td>\n",
       "      <td>67.525132</td>\n",
       "      <td>67.729525</td>\n",
       "    </tr>\n",
       "    <tr>\n",
       "      <th>std</th>\n",
       "      <td>5634.319145</td>\n",
       "      <td>83.570116</td>\n",
       "      <td>83.735956</td>\n",
       "    </tr>\n",
       "    <tr>\n",
       "      <th>min</th>\n",
       "      <td>30.000000</td>\n",
       "      <td>0.990000</td>\n",
       "      <td>0.990000</td>\n",
       "    </tr>\n",
       "    <tr>\n",
       "      <th>25%</th>\n",
       "      <td>3738.250000</td>\n",
       "      <td>28.617500</td>\n",
       "      <td>28.617500</td>\n",
       "    </tr>\n",
       "    <tr>\n",
       "      <th>50%</th>\n",
       "      <td>8898.500000</td>\n",
       "      <td>49.990000</td>\n",
       "      <td>49.990000</td>\n",
       "    </tr>\n",
       "    <tr>\n",
       "      <th>75%</th>\n",
       "      <td>14320.750000</td>\n",
       "      <td>84.170000</td>\n",
       "      <td>84.170000</td>\n",
       "    </tr>\n",
       "    <tr>\n",
       "      <th>max</th>\n",
       "      <td>18983.000000</td>\n",
       "      <td>1450.000000</td>\n",
       "      <td>1450.000000</td>\n",
       "    </tr>\n",
       "  </tbody>\n",
       "</table>\n",
       "</div>"
      ],
      "text/plain": [
       "              index  prices.amountMin  prices.amountMax\n",
       "count    906.000000        906.000000        906.000000\n",
       "mean    9079.651214         67.525132         67.729525\n",
       "std     5634.319145         83.570116         83.735956\n",
       "min       30.000000          0.990000          0.990000\n",
       "25%     3738.250000         28.617500         28.617500\n",
       "50%     8898.500000         49.990000         49.990000\n",
       "75%    14320.750000         84.170000         84.170000\n",
       "max    18983.000000       1450.000000       1450.000000"
      ]
     },
     "execution_count": 30,
     "metadata": {},
     "output_type": "execute_result"
    }
   ],
   "source": [
    "keep.describe()"
   ]
  },
  {
   "cell_type": "markdown",
   "metadata": {},
   "source": [
    "**Comments:**\n",
    "\n",
    "- First we can see that mean and median are not aligned when price is concerned. The mean (68 USD) is much higher than the median (USD 50), which means that we probably have some ouliers at the expensive end.\n",
    "\n",
    "- The other interesting thing to mention is that we have minimum prices at around 1 USD. We do not have time to investigate further so we will assume it is not an error and keep the data.\n",
    "\n",
    " - And finally we can see that the stats are almost the same at minimum and at maximum price. There is no difference between median at min price and median at max price, same for other percentiles. There is only a slight difference at the mean betwwen the 2 columns, but less than 0.2 difference. So I would tend to think that our 2 columns must be the same for the most part. \n",
    "Which actually makes sense since each row is a different pair of shoes sold by a merchant. Unless collected over a period where sales occured, it makes sense to consider that there is no max or min price, only a selling price.\n",
    "\n",
    "Which is why I suggest to drop the 2 column prices that are mostly the same and replace them by a column which will be the median of the two."
   ]
  },
  {
   "cell_type": "code",
   "execution_count": 31,
   "metadata": {},
   "outputs": [
    {
     "data": {
      "text/html": [
       "<div>\n",
       "<style scoped>\n",
       "    .dataframe tbody tr th:only-of-type {\n",
       "        vertical-align: middle;\n",
       "    }\n",
       "\n",
       "    .dataframe tbody tr th {\n",
       "        vertical-align: top;\n",
       "    }\n",
       "\n",
       "    .dataframe thead th {\n",
       "        text-align: right;\n",
       "    }\n",
       "</style>\n",
       "<table border=\"1\" class=\"dataframe\">\n",
       "  <thead>\n",
       "    <tr style=\"text-align: right;\">\n",
       "      <th></th>\n",
       "      <th>index</th>\n",
       "      <th>brand</th>\n",
       "      <th>colors</th>\n",
       "      <th>name</th>\n",
       "      <th>prices.amountMin</th>\n",
       "      <th>prices.amountMax</th>\n",
       "      <th>prices.isSale</th>\n",
       "      <th>MedianPrice</th>\n",
       "    </tr>\n",
       "  </thead>\n",
       "  <tbody>\n",
       "    <tr>\n",
       "      <th>332</th>\n",
       "      <td>6366</td>\n",
       "      <td>VANS</td>\n",
       "      <td>Black</td>\n",
       "      <td>Vans Authentic   Round Toe Canvas  Skate Shoe</td>\n",
       "      <td>60.0</td>\n",
       "      <td>60.0</td>\n",
       "      <td>FALSE</td>\n",
       "      <td>60.0</td>\n",
       "    </tr>\n",
       "  </tbody>\n",
       "</table>\n",
       "</div>"
      ],
      "text/plain": [
       "     index brand colors                                           name  \\\n",
       "332   6366  VANS  Black  Vans Authentic   Round Toe Canvas  Skate Shoe   \n",
       "\n",
       "     prices.amountMin  prices.amountMax prices.isSale  MedianPrice  \n",
       "332              60.0              60.0         FALSE         60.0  "
      ]
     },
     "execution_count": 31,
     "metadata": {},
     "output_type": "execute_result"
    }
   ],
   "source": [
    "col = keep.loc[: , \"prices.amountMin\":\"prices.amountMax\"]\n",
    "keep['MedianPrice'] = col.median(axis=1)\n",
    "# check\n",
    "keep.sample()"
   ]
  },
  {
   "cell_type": "code",
   "execution_count": 32,
   "metadata": {},
   "outputs": [],
   "source": [
    "keep.drop('prices.amountMax', axis=1, inplace=True)"
   ]
  },
  {
   "cell_type": "code",
   "execution_count": 33,
   "metadata": {},
   "outputs": [],
   "source": [
    "keep.drop('prices.amountMin', axis=1, inplace=True)"
   ]
  },
  {
   "cell_type": "markdown",
   "metadata": {},
   "source": [
    "**Boxplot**"
   ]
  },
  {
   "cell_type": "markdown",
   "metadata": {},
   "source": [
    "Now let's create a boxplot to check for outliers."
   ]
  },
  {
   "cell_type": "code",
   "execution_count": 34,
   "metadata": {},
   "outputs": [
    {
     "data": {
      "text/plain": [
       "<AxesSubplot:xlabel='MedianPrice'>"
      ]
     },
     "execution_count": 34,
     "metadata": {},
     "output_type": "execute_result"
    },
    {
     "data": {
      "image/png": "[encoded data removed]",
      "text/plain": [
       "<Figure size 432x288 with 1 Axes>"
      ]
     },
     "metadata": {
      "needs_background": "light"
     },
     "output_type": "display_data"
    }
   ],
   "source": [
    "sns.boxplot(data = keep, x= keep.MedianPrice)"
   ]
  },
  {
   "cell_type": "markdown",
   "metadata": {},
   "source": [
    "**Comments:**\n",
    "\n",
    "The boxplot method visually confirms that we have outliers in the price column. To manage these outliers, we'll filter our DataFrame take out all the values that have a price higher than the 90th percentile."
   ]
  },
  {
   "cell_type": "code",
   "execution_count": 35,
   "metadata": {},
   "outputs": [
    {
     "name": "stdout",
     "output_type": "stream",
     "text": [
      "The price 90th percentile is at USD 129.16500000000002. The max price is USD 1450.0, hence about 11.2 times higher.\n",
      "The number of outliers as defined by the top 10% is 90.60000000000001\n"
     ]
    }
   ],
   "source": [
    "#your code here\n",
    "# Number of outliers by column:\n",
    "outliers_amount = len(keep)*0.1\n",
    "print(f'The price 90th percentile is at USD {keep.MedianPrice.quantile(0.9)}. The max price is USD {keep.MedianPrice.max()}, hence about {(keep.MedianPrice.max()/keep.MedianPrice.quantile(0.9)).round(1)} times higher.')\n",
    "print(f'The number of outliers as defined by the top 10% is {outliers_amount}')\n",
    "\n",
    "keep = keep[keep.MedianPrice <= keep.MedianPrice.quantile(0.8)]"
   ]
  },
  {
   "cell_type": "code",
   "execution_count": 36,
   "metadata": {},
   "outputs": [
    {
     "data": {
      "text/plain": [
       "(725, 6)"
      ]
     },
     "execution_count": 36,
     "metadata": {},
     "output_type": "execute_result"
    }
   ],
   "source": [
    "keep.shape"
   ]
  },
  {
   "cell_type": "markdown",
   "metadata": {},
   "source": [
    "Now that we have dropped our outliers, let's plot another box plot to double check."
   ]
  },
  {
   "cell_type": "code",
   "execution_count": 37,
   "metadata": {},
   "outputs": [
    {
     "data": {
      "text/plain": [
       "<AxesSubplot:xlabel='MedianPrice'>"
      ]
     },
     "execution_count": 37,
     "metadata": {},
     "output_type": "execute_result"
    },
    {
     "data": {
      "image/png": "[encoded data removed]",
      "text/plain": [
       "<Figure size 432x288 with 1 Axes>"
      ]
     },
     "metadata": {
      "needs_background": "light"
     },
     "output_type": "display_data"
    }
   ],
   "source": [
    "sns.boxplot(data = keep, x= keep.MedianPrice)"
   ]
  },
  {
   "cell_type": "markdown",
   "metadata": {},
   "source": [
    "We no longer seem to have any outlier.\n",
    "Finally, let's save our clean data into a new csv named ``shoes_clean``**"
   ]
  },
  {
   "cell_type": "code",
   "execution_count": 38,
   "metadata": {},
   "outputs": [],
   "source": [
    "#your code here\n",
    "keep.to_csv('../data/shoes_clean.csv')"
   ]
  },
  {
   "cell_type": "code",
   "execution_count": null,
   "metadata": {},
   "outputs": [],
   "source": []
  }
 ],
 "metadata": {
  "kernelspec": {
   "display_name": "Python 3",
   "language": "python",
   "name": "python3"
  },
  "language_info": {
   "codemirror_mode": {
    "name": "ipython",
    "version": 3
   },
   "file_extension": ".py",
   "mimetype": "text/x-python",
   "name": "python",
   "nbconvert_exporter": "python",
   "pygments_lexer": "ipython3",
   "version": "3.8.5"
  }
 },
 "nbformat": 4,
 "nbformat_minor": 4
}
